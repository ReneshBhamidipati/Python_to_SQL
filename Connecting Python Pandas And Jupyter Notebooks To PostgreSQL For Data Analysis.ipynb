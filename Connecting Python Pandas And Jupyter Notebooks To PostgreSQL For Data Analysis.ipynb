{
 "cells": [
  {
   "cell_type": "markdown",
   "metadata": {},
   "source": [
    "# Libraries Required:"
   ]
  },
  {
   "cell_type": "code",
   "execution_count": 6,
   "metadata": {},
   "outputs": [],
   "source": [
    "import pandas as pd\n",
    "import psycopg2 # communicates your SQL statements to your Postgres database\n",
    "import sqlalchemy # generates SQL statements from python\n",
    "import matplotlib.pyplot as plt\n",
    "\n",
    "%matplotlib inline"
   ]
  },
  {
   "cell_type": "markdown",
   "metadata": {},
   "source": [
    "# Connecting to Postgresql/ pdadmin4 server"
   ]
  },
  {
   "cell_type": "code",
   "execution_count": 7,
   "metadata": {},
   "outputs": [],
   "source": [
    "from sqlalchemy import create_engine\n",
    "\n",
    "postgres_username = 'postgres'\n",
    "postgres_password = 'rennubabu'\n",
    "postgres_address = 'localhost'\n",
    "postgres_port = '5432'\n",
    "postgres_dbname = 'course_data'\n",
    "postgres_str = ('postgresql://{username}:{password}@{ipaddress}:{port}/{dbname}'\n",
    "               .format(username = postgres_username,\n",
    "                       password = postgres_password, \n",
    "                       ipaddress = postgres_address, \n",
    "                       port = postgres_port, \n",
    "                       dbname = postgres_dbname))\n",
    "\n",
    "# Create the connection\n",
    "conn = create_engine(postgres_str)"
   ]
  },
  {
   "cell_type": "markdown",
   "metadata": {},
   "source": [
    "# Writing the SQL query"
   ]
  },
  {
   "cell_type": "code",
   "execution_count": 8,
   "metadata": {},
   "outputs": [
    {
     "data": {
      "text/html": [
       "<div>\n",
       "<style scoped>\n",
       "    .dataframe tbody tr th:only-of-type {\n",
       "        vertical-align: middle;\n",
       "    }\n",
       "\n",
       "    .dataframe tbody tr th {\n",
       "        vertical-align: top;\n",
       "    }\n",
       "\n",
       "    .dataframe thead th {\n",
       "        text-align: right;\n",
       "    }\n",
       "</style>\n",
       "<table border=\"1\" class=\"dataframe\">\n",
       "  <thead>\n",
       "    <tr style=\"text-align: right;\">\n",
       "      <th></th>\n",
       "      <th>department</th>\n",
       "      <th>no_of_employees</th>\n",
       "    </tr>\n",
       "  </thead>\n",
       "  <tbody>\n",
       "    <tr>\n",
       "      <th>0</th>\n",
       "      <td>Beauty</td>\n",
       "      <td>45</td>\n",
       "    </tr>\n",
       "    <tr>\n",
       "      <th>1</th>\n",
       "      <td>Children Clothing</td>\n",
       "      <td>47</td>\n",
       "    </tr>\n",
       "    <tr>\n",
       "      <th>2</th>\n",
       "      <td>Clothing</td>\n",
       "      <td>49</td>\n",
       "    </tr>\n",
       "    <tr>\n",
       "      <th>3</th>\n",
       "      <td>Computers</td>\n",
       "      <td>47</td>\n",
       "    </tr>\n",
       "    <tr>\n",
       "      <th>4</th>\n",
       "      <td>Device Repair</td>\n",
       "      <td>51</td>\n",
       "    </tr>\n",
       "  </tbody>\n",
       "</table>\n",
       "</div>"
      ],
      "text/plain": [
       "          department  no_of_employees\n",
       "0             Beauty               45\n",
       "1  Children Clothing               47\n",
       "2           Clothing               49\n",
       "3          Computers               47\n",
       "4      Device Repair               51"
      ]
     },
     "execution_count": 8,
     "metadata": {},
     "output_type": "execute_result"
    }
   ],
   "source": [
    "dept_query = pd.read_sql_query(\n",
    "\"\"\"\n",
    "select department, \n",
    "count(*) as no_of_employees \n",
    "from employees \n",
    "group by department \n",
    "having count(*) > 40 \n",
    "order by department;\n",
    "\"\"\", conn)\n",
    "dept_query.head()"
   ]
  },
  {
   "cell_type": "markdown",
   "metadata": {},
   "source": [
    "# Creating a Dataframe from the query"
   ]
  },
  {
   "cell_type": "code",
   "execution_count": 9,
   "metadata": {},
   "outputs": [
    {
     "data": {
      "text/html": [
       "<div>\n",
       "<style scoped>\n",
       "    .dataframe tbody tr th:only-of-type {\n",
       "        vertical-align: middle;\n",
       "    }\n",
       "\n",
       "    .dataframe tbody tr th {\n",
       "        vertical-align: top;\n",
       "    }\n",
       "\n",
       "    .dataframe thead th {\n",
       "        text-align: right;\n",
       "    }\n",
       "</style>\n",
       "<table border=\"1\" class=\"dataframe\">\n",
       "  <thead>\n",
       "    <tr style=\"text-align: right;\">\n",
       "      <th></th>\n",
       "      <th>department</th>\n",
       "      <th>no_of_employees</th>\n",
       "    </tr>\n",
       "  </thead>\n",
       "  <tbody>\n",
       "    <tr>\n",
       "      <th>0</th>\n",
       "      <td>Beauty</td>\n",
       "      <td>45</td>\n",
       "    </tr>\n",
       "    <tr>\n",
       "      <th>1</th>\n",
       "      <td>Children Clothing</td>\n",
       "      <td>47</td>\n",
       "    </tr>\n",
       "    <tr>\n",
       "      <th>2</th>\n",
       "      <td>Clothing</td>\n",
       "      <td>49</td>\n",
       "    </tr>\n",
       "    <tr>\n",
       "      <th>3</th>\n",
       "      <td>Computers</td>\n",
       "      <td>47</td>\n",
       "    </tr>\n",
       "    <tr>\n",
       "      <th>4</th>\n",
       "      <td>Device Repair</td>\n",
       "      <td>51</td>\n",
       "    </tr>\n",
       "    <tr>\n",
       "      <th>5</th>\n",
       "      <td>First Aid</td>\n",
       "      <td>58</td>\n",
       "    </tr>\n",
       "    <tr>\n",
       "      <th>6</th>\n",
       "      <td>Furniture</td>\n",
       "      <td>43</td>\n",
       "    </tr>\n",
       "    <tr>\n",
       "      <th>7</th>\n",
       "      <td>Garden</td>\n",
       "      <td>41</td>\n",
       "    </tr>\n",
       "    <tr>\n",
       "      <th>8</th>\n",
       "      <td>Jewelry</td>\n",
       "      <td>41</td>\n",
       "    </tr>\n",
       "    <tr>\n",
       "      <th>9</th>\n",
       "      <td>Movies</td>\n",
       "      <td>56</td>\n",
       "    </tr>\n",
       "    <tr>\n",
       "      <th>10</th>\n",
       "      <td>Toys</td>\n",
       "      <td>47</td>\n",
       "    </tr>\n",
       "  </tbody>\n",
       "</table>\n",
       "</div>"
      ],
      "text/plain": [
       "           department  no_of_employees\n",
       "0              Beauty               45\n",
       "1   Children Clothing               47\n",
       "2            Clothing               49\n",
       "3           Computers               47\n",
       "4       Device Repair               51\n",
       "5           First Aid               58\n",
       "6           Furniture               43\n",
       "7              Garden               41\n",
       "8             Jewelry               41\n",
       "9              Movies               56\n",
       "10               Toys               47"
      ]
     },
     "execution_count": 9,
     "metadata": {},
     "output_type": "execute_result"
    }
   ],
   "source": [
    "dept_df = pd.DataFrame(dept_query)\n",
    "dept_df"
   ]
  },
  {
   "cell_type": "markdown",
   "metadata": {},
   "source": [
    "# Create a Visualization from the Dataframe"
   ]
  },
  {
   "cell_type": "code",
   "execution_count": 10,
   "metadata": {},
   "outputs": [
    {
     "data": {
      "image/png": "[encoded data removed]",
      "text/plain": [
       "<Figure size 1440x216 with 1 Axes>"
      ]
     },
     "metadata": {
      "needs_background": "light"
     },
     "output_type": "display_data"
    }
   ],
   "source": [
    "fig = plt.figure(figsize=(20, 3))  # width:20, height:3\n",
    "plt.title(\"Departments with Employee Count > 40\", fontsize = 20)\n",
    "plt.bar(dept_df.department,dept_df.no_of_employees, align='center', width=0.3);\n",
    "plt.xticks(fontsize = 13);\n",
    "plt.yticks(fontsize = 13);"
   ]
  },
  {
   "cell_type": "markdown",
   "metadata": {},
   "source": [
    "# Repeat for multiple queries, according to the task at hand"
   ]
  },
  {
   "cell_type": "code",
   "execution_count": 11,
   "metadata": {},
   "outputs": [
    {
     "data": {
      "text/html": [
       "<div>\n",
       "<style scoped>\n",
       "    .dataframe tbody tr th:only-of-type {\n",
       "        vertical-align: middle;\n",
       "    }\n",
       "\n",
       "    .dataframe tbody tr th {\n",
       "        vertical-align: top;\n",
       "    }\n",
       "\n",
       "    .dataframe thead th {\n",
       "        text-align: right;\n",
       "    }\n",
       "</style>\n",
       "<table border=\"1\" class=\"dataframe\">\n",
       "  <thead>\n",
       "    <tr style=\"text-align: right;\">\n",
       "      <th></th>\n",
       "      <th>employee_id</th>\n",
       "      <th>first_name</th>\n",
       "      <th>last_name</th>\n",
       "      <th>email</th>\n",
       "      <th>hire_date</th>\n",
       "      <th>department</th>\n",
       "      <th>gender</th>\n",
       "      <th>salary</th>\n",
       "      <th>region_id</th>\n",
       "    </tr>\n",
       "  </thead>\n",
       "  <tbody>\n",
       "    <tr>\n",
       "      <th>0</th>\n",
       "      <td>1</td>\n",
       "      <td>Berrie</td>\n",
       "      <td>Manueau</td>\n",
       "      <td>bmanueau0@dion.ne.jp</td>\n",
       "      <td>2006-04-20</td>\n",
       "      <td>Sports</td>\n",
       "      <td>F</td>\n",
       "      <td>154864</td>\n",
       "      <td>4</td>\n",
       "    </tr>\n",
       "    <tr>\n",
       "      <th>1</th>\n",
       "      <td>3</td>\n",
       "      <td>Sydney</td>\n",
       "      <td>Symonds</td>\n",
       "      <td>ssymonds2@hhs.gov</td>\n",
       "      <td>2010-05-17</td>\n",
       "      <td>Clothing</td>\n",
       "      <td>F</td>\n",
       "      <td>95313</td>\n",
       "      <td>4</td>\n",
       "    </tr>\n",
       "    <tr>\n",
       "      <th>2</th>\n",
       "      <td>4</td>\n",
       "      <td>Avrom</td>\n",
       "      <td>Rowantree</td>\n",
       "      <td>None</td>\n",
       "      <td>2014-08-02</td>\n",
       "      <td>Phones &amp; Tablets</td>\n",
       "      <td>M</td>\n",
       "      <td>119674</td>\n",
       "      <td>7</td>\n",
       "    </tr>\n",
       "    <tr>\n",
       "      <th>3</th>\n",
       "      <td>5</td>\n",
       "      <td>Feliks</td>\n",
       "      <td>Morffew</td>\n",
       "      <td>fmorffew4@a8.net</td>\n",
       "      <td>2003-01-14</td>\n",
       "      <td>Computers</td>\n",
       "      <td>M</td>\n",
       "      <td>55307</td>\n",
       "      <td>5</td>\n",
       "    </tr>\n",
       "    <tr>\n",
       "      <th>4</th>\n",
       "      <td>7</td>\n",
       "      <td>Ardeen</td>\n",
       "      <td>Curwood</td>\n",
       "      <td>acurwood6@1und1.de</td>\n",
       "      <td>2006-02-19</td>\n",
       "      <td>Clothing</td>\n",
       "      <td>F</td>\n",
       "      <td>28995</td>\n",
       "      <td>7</td>\n",
       "    </tr>\n",
       "  </tbody>\n",
       "</table>\n",
       "</div>"
      ],
      "text/plain": [
       "   employee_id first_name  last_name                 email   hire_date  \\\n",
       "0            1     Berrie    Manueau  bmanueau0@dion.ne.jp  2006-04-20   \n",
       "1            3     Sydney    Symonds     ssymonds2@hhs.gov  2010-05-17   \n",
       "2            4      Avrom  Rowantree                  None  2014-08-02   \n",
       "3            5     Feliks    Morffew      fmorffew4@a8.net  2003-01-14   \n",
       "4            7     Ardeen    Curwood    acurwood6@1und1.de  2006-02-19   \n",
       "\n",
       "         department gender  salary  region_id  \n",
       "0            Sports      F  154864          4  \n",
       "1          Clothing      F   95313          4  \n",
       "2  Phones & Tablets      M  119674          7  \n",
       "3         Computers      M   55307          5  \n",
       "4          Clothing      F   28995          7  "
      ]
     },
     "execution_count": 11,
     "metadata": {},
     "output_type": "execute_result"
    }
   ],
   "source": [
    "# Find the no. of male and female employees who work in Asia and Canada\n",
    "regions_query = pd.read_sql_query(\n",
    "\"\"\"\n",
    "select * \n",
    "from employees\n",
    "where region_id in (select region_id from regions where country in ('Asia','Canada'))\n",
    "\"\"\", conn\n",
    ")\n",
    "regions_query.head()"
   ]
  },
  {
   "cell_type": "code",
   "execution_count": 12,
   "metadata": {},
   "outputs": [
    {
     "data": {
      "text/html": [
       "<div>\n",
       "<style scoped>\n",
       "    .dataframe tbody tr th:only-of-type {\n",
       "        vertical-align: middle;\n",
       "    }\n",
       "\n",
       "    .dataframe tbody tr th {\n",
       "        vertical-align: top;\n",
       "    }\n",
       "\n",
       "    .dataframe thead th {\n",
       "        text-align: right;\n",
       "    }\n",
       "</style>\n",
       "<table border=\"1\" class=\"dataframe\">\n",
       "  <thead>\n",
       "    <tr style=\"text-align: right;\">\n",
       "      <th></th>\n",
       "      <th>employee_id</th>\n",
       "      <th>first_name</th>\n",
       "      <th>last_name</th>\n",
       "      <th>email</th>\n",
       "      <th>hire_date</th>\n",
       "      <th>department</th>\n",
       "      <th>gender</th>\n",
       "      <th>salary</th>\n",
       "      <th>region_id</th>\n",
       "    </tr>\n",
       "  </thead>\n",
       "  <tbody>\n",
       "    <tr>\n",
       "      <th>0</th>\n",
       "      <td>1</td>\n",
       "      <td>Berrie</td>\n",
       "      <td>Manueau</td>\n",
       "      <td>bmanueau0@dion.ne.jp</td>\n",
       "      <td>2006-04-20</td>\n",
       "      <td>Sports</td>\n",
       "      <td>F</td>\n",
       "      <td>154864</td>\n",
       "      <td>4</td>\n",
       "    </tr>\n",
       "    <tr>\n",
       "      <th>1</th>\n",
       "      <td>3</td>\n",
       "      <td>Sydney</td>\n",
       "      <td>Symonds</td>\n",
       "      <td>ssymonds2@hhs.gov</td>\n",
       "      <td>2010-05-17</td>\n",
       "      <td>Clothing</td>\n",
       "      <td>F</td>\n",
       "      <td>95313</td>\n",
       "      <td>4</td>\n",
       "    </tr>\n",
       "    <tr>\n",
       "      <th>2</th>\n",
       "      <td>4</td>\n",
       "      <td>Avrom</td>\n",
       "      <td>Rowantree</td>\n",
       "      <td>None</td>\n",
       "      <td>2014-08-02</td>\n",
       "      <td>Phones &amp; Tablets</td>\n",
       "      <td>M</td>\n",
       "      <td>119674</td>\n",
       "      <td>7</td>\n",
       "    </tr>\n",
       "    <tr>\n",
       "      <th>3</th>\n",
       "      <td>5</td>\n",
       "      <td>Feliks</td>\n",
       "      <td>Morffew</td>\n",
       "      <td>fmorffew4@a8.net</td>\n",
       "      <td>2003-01-14</td>\n",
       "      <td>Computers</td>\n",
       "      <td>M</td>\n",
       "      <td>55307</td>\n",
       "      <td>5</td>\n",
       "    </tr>\n",
       "    <tr>\n",
       "      <th>4</th>\n",
       "      <td>7</td>\n",
       "      <td>Ardeen</td>\n",
       "      <td>Curwood</td>\n",
       "      <td>acurwood6@1und1.de</td>\n",
       "      <td>2006-02-19</td>\n",
       "      <td>Clothing</td>\n",
       "      <td>F</td>\n",
       "      <td>28995</td>\n",
       "      <td>7</td>\n",
       "    </tr>\n",
       "  </tbody>\n",
       "</table>\n",
       "</div>"
      ],
      "text/plain": [
       "   employee_id first_name  last_name                 email   hire_date  \\\n",
       "0            1     Berrie    Manueau  bmanueau0@dion.ne.jp  2006-04-20   \n",
       "1            3     Sydney    Symonds     ssymonds2@hhs.gov  2010-05-17   \n",
       "2            4      Avrom  Rowantree                  None  2014-08-02   \n",
       "3            5     Feliks    Morffew      fmorffew4@a8.net  2003-01-14   \n",
       "4            7     Ardeen    Curwood    acurwood6@1und1.de  2006-02-19   \n",
       "\n",
       "         department gender  salary  region_id  \n",
       "0            Sports      F  154864          4  \n",
       "1          Clothing      F   95313          4  \n",
       "2  Phones & Tablets      M  119674          7  \n",
       "3         Computers      M   55307          5  \n",
       "4          Clothing      F   28995          7  "
      ]
     },
     "execution_count": 12,
     "metadata": {},
     "output_type": "execute_result"
    }
   ],
   "source": [
    "regions_df = pd.DataFrame(regions_query)\n",
    "regions_df.head()"
   ]
  },
  {
   "cell_type": "code",
   "execution_count": 13,
   "metadata": {},
   "outputs": [
    {
     "data": {
      "image/png": "[encoded data removed]",
      "text/plain": [
       "<Figure size 432x432 with 1 Axes>"
      ]
     },
     "metadata": {},
     "output_type": "display_data"
    }
   ],
   "source": [
    "female_count = regions_df.loc[regions_df['gender'] == 'F'].count()[0]\n",
    "male_count = regions_df.loc[regions_df['gender'] == 'M'].count()[0]\n",
    "\n",
    "fig = plt.figure(figsize = (6,6))\n",
    "plt.title(\"No. of Males vs. Females in the Firm\", fontsize = 20)\n",
    "plt.pie([female_count, male_count], labels = ['%r Females' % female_count, '%r Males' % male_count], textprops = {'fontsize' : 14}, autopct='%1.1f%%');"
   ]
  },
  {
   "cell_type": "code",
   "execution_count": 14,
   "metadata": {},
   "outputs": [
    {
     "name": "stdout",
     "output_type": "stream",
     "text": [
      "   employee  consultant  partner\n",
      "0       581         298      121\n"
     ]
    }
   ],
   "source": [
    "salary_query = pd.read_sql_query(\n",
    "\"\"\"\n",
    "select sum(case when salary < 100000 then 1 else 0 end) as employee,\n",
    "sum(case when salary > 100000 and salary < 150000 then 1 else 0 end) as consultant,\n",
    "sum(case when salary > 150000 then 1 else 0 end) as partner \n",
    "from employees\n",
    "\"\"\", conn\n",
    ")\n",
    "print(salary_query)"
   ]
  },
  {
   "cell_type": "code",
   "execution_count": 15,
   "metadata": {},
   "outputs": [
    {
     "data": {
      "text/html": [
       "<div>\n",
       "<style scoped>\n",
       "    .dataframe tbody tr th:only-of-type {\n",
       "        vertical-align: middle;\n",
       "    }\n",
       "\n",
       "    .dataframe tbody tr th {\n",
       "        vertical-align: top;\n",
       "    }\n",
       "\n",
       "    .dataframe thead th {\n",
       "        text-align: right;\n",
       "    }\n",
       "</style>\n",
       "<table border=\"1\" class=\"dataframe\">\n",
       "  <thead>\n",
       "    <tr style=\"text-align: right;\">\n",
       "      <th></th>\n",
       "      <th>employee</th>\n",
       "      <th>consultant</th>\n",
       "      <th>partner</th>\n",
       "    </tr>\n",
       "  </thead>\n",
       "  <tbody>\n",
       "    <tr>\n",
       "      <th>0</th>\n",
       "      <td>581</td>\n",
       "      <td>298</td>\n",
       "      <td>121</td>\n",
       "    </tr>\n",
       "  </tbody>\n",
       "</table>\n",
       "</div>"
      ],
      "text/plain": [
       "   employee  consultant  partner\n",
       "0       581         298      121"
      ]
     },
     "execution_count": 15,
     "metadata": {},
     "output_type": "execute_result"
    }
   ],
   "source": [
    "salary_df = pd.DataFrame(salary_query)\n",
    "salary_df"
   ]
  },
  {
   "cell_type": "code",
   "execution_count": 16,
   "metadata": {},
   "outputs": [
    {
     "data": {
      "image/png": "[encoded data removed]",
      "text/plain": [
       "<Figure size 432x432 with 1 Axes>"
      ]
     },
     "metadata": {},
     "output_type": "display_data"
    }
   ],
   "source": [
    "employee_count = salary_df.employee.max()\n",
    "consultant_count = salary_df.consultant.max()\n",
    "partner_count = salary_df.partner.max()\n",
    "#print(employee_count, consultant_count, partner_count)\n",
    "\n",
    "fig = plt.figure(figsize = (6,6))\n",
    "plt.title(\"No. of People in each respective role at the Firm\", fontsize = 20)\n",
    "plt.pie([employee_count, consultant_count, partner_count], labels = ['%r employees' % employee_count, '%r consultants' % consultant_count, '%r partners' % partner_count], textprops = {'fontsize' : 14}, autopct='%1.1f%%');"
   ]
  },
  {
   "cell_type": "code",
   "execution_count": null,
   "metadata": {},
   "outputs": [],
   "source": []
  }
 ],
 "metadata": {
  "kernelspec": {
   "display_name": "Python 3",
   "language": "python",
   "name": "python3"
  },
  "language_info": {
   "codemirror_mode": {
    "name": "ipython",
    "version": 3
   },
   "file_extension": ".py",
   "mimetype": "text/x-python",
   "name": "python",
   "nbconvert_exporter": "python",
   "pygments_lexer": "ipython3",
   "version": "3.7.3"
  }
 },
 "nbformat": 4,
 "nbformat_minor": 2
}
